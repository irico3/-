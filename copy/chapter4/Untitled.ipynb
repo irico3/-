{
 "cells": [
  {
   "cell_type": "code",
   "execution_count": 1,
   "id": "6183f683-d6ed-4a08-a700-e759cd6b220f",
   "metadata": {},
   "outputs": [],
   "source": [
    "from vectors import scale\n",
    "def scale2(v):\n",
    "    return scale(2.0, v)"
   ]
  },
  {
   "cell_type": "code",
   "execution_count": 3,
   "id": "d1fc964d-d0df-409e-92ab-996825c0d2e3",
   "metadata": {},
   "outputs": [],
   "source": [
    "from teapot import load_triangles\n",
    "original_triangles = load_triangles()\n",
    "scaled_triangles = [\n",
    "    [scale2(vertex) for vertex in triangle]\n",
    "    for triangle in original_triangles\n",
    "]"
   ]
  },
  {
   "cell_type": "code",
   "execution_count": 4,
   "id": "7452c694-1c6f-4194-b2d8-b9871e2eca04",
   "metadata": {},
   "outputs": [
    {
     "ename": "NameError",
     "evalue": "name 'draw_model' is not defined",
     "output_type": "error",
     "traceback": [
      "\u001b[0;31m---------------------------------------------------------------------------\u001b[0m",
      "\u001b[0;31mNameError\u001b[0m                                 Traceback (most recent call last)",
      "Cell \u001b[0;32mIn[4], line 1\u001b[0m\n\u001b[0;32m----> 1\u001b[0m \u001b[43mdraw_model\u001b[49m(scaled_triangles)\n",
      "\u001b[0;31mNameError\u001b[0m: name 'draw_model' is not defined"
     ]
    }
   ],
   "source": [
    "draw_model(scaled_triangles)"
   ]
  },
  {
   "cell_type": "code",
   "execution_count": null,
   "id": "130e59d9-2c0e-4063-94a0-e9c277bba42b",
   "metadata": {},
   "outputs": [],
   "source": []
  }
 ],
 "metadata": {
  "kernelspec": {
   "display_name": "Python 3 (ipykernel)",
   "language": "python",
   "name": "python3"
  },
  "language_info": {
   "codemirror_mode": {
    "name": "ipython",
    "version": 3
   },
   "file_extension": ".py",
   "mimetype": "text/x-python",
   "name": "python",
   "nbconvert_exporter": "python",
   "pygments_lexer": "ipython3",
   "version": "3.12.3"
  }
 },
 "nbformat": 4,
 "nbformat_minor": 5
}
