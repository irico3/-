{
 "cells": [
  {
   "cell_type": "code",
   "execution_count": 1,
   "id": "f514aab6-1576-4d68-8d91-89f844255de3",
   "metadata": {},
   "outputs": [
    {
     "ename": "ModuleNotFoundError",
     "evalue": "No module named 'vector_drawing'",
     "output_type": "error",
     "traceback": [
      "\u001b[0;31m---------------------------------------------------------------------------\u001b[0m",
      "\u001b[0;31mModuleNotFoundError\u001b[0m                       Traceback (most recent call last)",
      "Cell \u001b[0;32mIn[1], line 1\u001b[0m\n\u001b[0;32m----> 1\u001b[0m \u001b[38;5;28;01mfrom\u001b[39;00m \u001b[38;5;21;01mvector_drawing\u001b[39;00m \u001b[38;5;28;01mimport\u001b[39;00m \u001b[38;5;241m*\u001b[39m\n\u001b[1;32m      2\u001b[0m dino_vectors \u001b[38;5;241m=\u001b[39m [(\u001b[38;5;241m6\u001b[39m,\u001b[38;5;241m4\u001b[39m),(\u001b[38;5;241m3\u001b[39m,\u001b[38;5;241m1\u001b[39m),(\u001b[38;5;241m1\u001b[39m,\u001b[38;5;241m2\u001b[39m)]\n\u001b[1;32m      4\u001b[0m draw(\n\u001b[1;32m      5\u001b[0m \n\u001b[1;32m      6\u001b[0m     Points(\u001b[38;5;241m*\u001b[39mdino_vectors)\n\u001b[1;32m      7\u001b[0m )\n",
      "\u001b[0;31mModuleNotFoundError\u001b[0m: No module named 'vector_drawing'"
     ]
    }
   ],
   "source": [
    "from vector_drawing import *\n",
    "dino_vectors = [(6,4),(3,1),(1,2)]\n",
    "\n",
    "draw(\n",
    "    Points(*dino_vectors)\n",
    ")"
   ]
  },
  {
   "cell_type": "code",
   "execution_count": null,
   "id": "8bf2818e-7a70-49d4-bc8a-3c429059c7a3",
   "metadata": {},
   "outputs": [],
   "source": []
  }
 ],
 "metadata": {
  "kernelspec": {
   "display_name": "Python 3 (ipykernel)",
   "language": "python",
   "name": "python3"
  },
  "language_info": {
   "codemirror_mode": {
    "name": "ipython",
    "version": 3
   },
   "file_extension": ".py",
   "mimetype": "text/x-python",
   "name": "python",
   "nbconvert_exporter": "python",
   "pygments_lexer": "ipython3",
   "version": "3.12.3"
  }
 },
 "nbformat": 4,
 "nbformat_minor": 5
}
